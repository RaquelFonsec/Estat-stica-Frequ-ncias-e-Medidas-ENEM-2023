{
 "cells": [
  {
   "cell_type": "code",
   "execution_count": 1,
   "metadata": {
    "colab": {
     "base_uri": "https://localhost:8080/"
    },
    "executionInfo": {
     "elapsed": 449,
     "status": "ok",
     "timestamp": 1708668843458,
     "user": {
      "displayName": "Raquel Fonseca",
      "userId": "07638475028169853447"
     },
     "user_tz": -60
    },
    "id": "EoUzkEiSTPbP",
    "outputId": "559a8dae-56db-4dba-f07c-52025b66d12d"
   },
   "outputs": [
    {
     "name": "stdout",
     "output_type": "stream",
     "text": [
      "A disciplina com maior amplitude de nota é: Linguagens.0\n",
      "\n",
      "Média das notas por disciplina:\n",
      "Linguagens.0    460.408911\n",
      "Linguagens.1    527.883021\n",
      "Linguagens.2    522.806800\n",
      "Linguagens.3    604.108200\n",
      "Linguagens.4    520.592200\n",
      "Linguagens.5    556.486000\n",
      "Linguagens.6    516.663600\n",
      "dtype: float64\n",
      "\n",
      "Mediana das notas por disciplina:\n",
      "Linguagens.0    384.093657\n",
      "Linguagens.1    536.571398\n",
      "Linguagens.2    512.789000\n",
      "Linguagens.3    598.765000\n",
      "Linguagens.4    520.987000\n",
      "Linguagens.5    560.765000\n",
      "Linguagens.6    510.987000\n",
      "dtype: float64\n",
      "\n",
      "Média das notas dos estudantes aceitos em Ciência da Computação: 529.85\n",
      "Variância das notas dos estudantes aceitos em Ciência da Computação: 246.15\n",
      "Terceiro quartil para Matemática: 585.67\n",
      "Terceiro quartil para Linguagens: 585.67\n"
     ]
    }
   ],
   "source": [
    "import pandas as pd\n",
    "import numpy as np\n",
    "\n",
    "# Dados reais\n",
    "data = {\n",
    "    'Linguagens.0': [585.6693, 359.384608, 622.732384, 350.164605, 384.093657],\n",
    "    'Linguagens.1': [616.04336, 511.897593, 377.439818, 597.462934, 536.571398],\n",
    "    'Linguagens.2': [550.123, 490.234, 600.567, 512.789, 460.321],\n",
    "    'Linguagens.3': [620.432, 590.123, 570.987, 640.234, 598.765],\n",
    "    'Linguagens.4': [480.543, 520.987, 550.123, 510.987, 540.321],\n",
    "    'Linguagens.5': [530.987, 570.234, 560.765, 540.123, 580.321],\n",
    "    'Linguagens.6': [490.567, 550.123, 510.987, 530.987, 500.654],\n",
    "    'Sexo.990': ['Mulher', 'Homem', 'Não identificado', 'Mulher', 'Homem'],\n",
    "    'Sexo.991': ['Mulher', 'Homem', 'Não identificado', 'Mulher', 'Homem'],\n",
    "\n",
    "}\n",
    "\n",
    "# Criar DataFrame\n",
    "top_estudantes = pd.DataFrame(data)\n",
    "\n",
    "# Remova as linhas com valores nulos\n",
    "top_estudantes = top_estudantes.dropna()\n",
    "\n",
    "# Convert remaining columns to numeric\n",
    "remaining_columns = top_estudantes.columns[:-2]\n",
    "top_estudantes[remaining_columns] = top_estudantes[remaining_columns].apply(\n",
    "    lambda x: pd.to_numeric(x, errors='coerce'),\n",
    "    axis=1\n",
    ")\n",
    "\n",
    "# Check for non-numeric values after conversion\n",
    "non_numeric_values_remaining = top_estudantes[remaining_columns].apply(lambda x: x.map(lambda y: not isinstance(y, (int, float))))\n",
    "if non_numeric_values_remaining.any().any():\n",
    "    print(\"Warning: There are still non-numeric values in the DataFrame after the second conversion.\")\n",
    "    problematic_rows_remaining = top_estudantes[non_numeric_values_remaining.any(axis=1)]\n",
    "    print(\"Rows with non-numeric values:\")\n",
    "    print(problematic_rows_remaining)\n",
    "\n",
    "# Resposta para a pergunta 1\n",
    "# Defina os pesos para cada disciplina (apenas disciplinas presentes nos dados)\n",
    "pesos = {\n",
    "    'Linguagens.0': 2,\n",
    "    'Linguagens.1': 2,\n",
    "    'Linguagens.2': 2,\n",
    "    'Linguagens.3': 2,\n",
    "    'Linguagens.4': 2,\n",
    "    'Linguagens.5': 2,\n",
    "    'Linguagens.6': 2,\n",
    "    'Matematica': 4,\n",
    "\n",
    "}\n",
    "\n",
    "#  pesos para Ciência da Computação\n",
    "pesos_ciencia_computacao = {\n",
    "    'Linguagens': 2,\n",
    "    'Matematica': 4,\n",
    "\n",
    "}\n",
    "\n",
    "# Calculando a média ponderada\n",
    "numeric_columns = top_estudantes.columns[:-2]\n",
    "weights = top_estudantes.columns[:-2].str.split('.').str[0].map(pesos)\n",
    "weighted_sum = (top_estudantes[numeric_columns] * weights).sum(axis=1)\n",
    "weights_sum = (top_estudantes[numeric_columns] * weights).notna().sum(axis=1)\n",
    "top_estudantes['Media_Ponderada'] = weighted_sum / weights_sum\n",
    "\n",
    "# Resposta para a pergunta 2\n",
    "# Calculando a amplitude de nota para cada disciplina\n",
    "amplitude_notas = top_estudantes[numeric_columns].max() - top_estudantes[numeric_columns].min()\n",
    "disciplina_maior_amplitude = amplitude_notas.idxmax()\n",
    "print(f'A disciplina com maior amplitude de nota é: {disciplina_maior_amplitude}')\n",
    "\n",
    "# Calculando a média e a mediana para cada disciplina\n",
    "media_notas = top_estudantes[numeric_columns].mean()\n",
    "mediana_notas = top_estudantes[numeric_columns].median(skipna=True)\n",
    "print('\\nMédia das notas por disciplina:')\n",
    "print(media_notas)\n",
    "print('\\nMediana das notas por disciplina:')\n",
    "print(mediana_notas)\n",
    "\n",
    "\n",
    "\n",
    "# Calculando a média ponderada para Ciência da Computação\n",
    "top_estudantes['Media_Ponderada_Ciencia_Computacao'] = np.average(\n",
    "    top_estudantes[numeric_columns],  # Utilize as colunas numéricas que foram convertidas\n",
    "    axis=1,\n",
    "    weights=top_estudantes[numeric_columns].columns.str.split('.').str[0].map(pesos_ciencia_computacao)\n",
    ")\n",
    "\n",
    "\n",
    "# Resposta para a pergunta 4\n",
    "# Supondo que os estudantes aceitos são os 40 melhores\n",
    "estudantes_aceitos = top_estudantes.sort_values(by='Media_Ponderada_Ciencia_Computacao', ascending=False).head(40)\n",
    "\n",
    "# Calculando a variância e a média dos estudantes aceitos\n",
    "variancia_aceitos = estudantes_aceitos['Media_Ponderada_Ciencia_Computacao'].var(ddof=0)\n",
    "media_aceitos = estudantes_aceitos['Media_Ponderada_Ciencia_Computacao'].mean()\n",
    "\n",
    "print(f'\\nMédia das notas dos estudantes aceitos em Ciência da Computação: {media_aceitos:.2f}')\n",
    "print(f'Variância das notas dos estudantes aceitos em Ciência da Computação: {variancia_aceitos:.2f}')\n",
    "\n",
    "# Calculando o terceiro quartil para Matemática e Linguagens\n",
    "terceiro_quartil_matematica = top_estudantes['Linguagens.0'].quantile(0.75)\n",
    "terceiro_quartil_linguagens = top_estudantes['Linguagens.0'].quantile(0.75)\n",
    "\n",
    "print(f'Terceiro quartil para Matemática: {terceiro_quartil_matematica:.2f}')\n",
    "print(f'Terceiro quartil para Linguagens: {terceiro_quartil_linguagens:.2f}')\n",
    "\n",
    "\n",
    "\n",
    "\n",
    "\n",
    "\n",
    "\n"
   ]
  },
  {
   "cell_type": "code",
   "execution_count": 2,
   "metadata": {
    "colab": {
     "base_uri": "https://localhost:8080/",
     "height": 1000
    },
    "executionInfo": {
     "elapsed": 7469,
     "status": "ok",
     "timestamp": 1708668678182,
     "user": {
      "displayName": "Raquel Fonseca",
      "userId": "07638475028169853447"
     },
     "user_tz": -60
    },
    "id": "lnq355Pl1N7z",
    "outputId": "bd812d13-4772-40f3-a376-898c94a5ca21"
   },
   "outputs": [
    {
     "data": {
      "image/png": "[encoded data removed]",
      "text/plain": [
       "<Figure size 864x432 with 1 Axes>"
      ]
     },
     "metadata": {
      "needs_background": "light"
     },
     "output_type": "display_data"
    },
    {
     "name": "stdout",
     "output_type": "stream",
     "text": [
      "Assimetria de Pearson para Redação: nan\n"
     ]
    },
    {
     "data": {
      "image/png": "[encoded data removed]",
      "text/plain": [
       "<Figure size 864x432 with 1 Axes>"
      ]
     },
     "metadata": {
      "needs_background": "light"
     },
     "output_type": "display_data"
    },
    {
     "name": "stdout",
     "output_type": "stream",
     "text": [
      "Assimetria de Pearson para Linguagens: nan\n"
     ]
    },
    {
     "data": {
      "image/png": "[encoded data removed]",
      "text/plain": [
       "<Figure size 864x432 with 1 Axes>"
      ]
     },
     "metadata": {
      "needs_background": "light"
     },
     "output_type": "display_data"
    },
    {
     "data": {
      "image/png": "[encoded data removed]",
      "text/plain": [
       "<Figure size 864x432 with 1 Axes>"
      ]
     },
     "metadata": {
      "needs_background": "light"
     },
     "output_type": "display_data"
    }
   ],
   "source": [
    "import pandas as pd\n",
    "import numpy as np\n",
    "import requests\n",
    "import json\n",
    "import matplotlib.pyplot as plt\n",
    "from scipy.stats import skew\n",
    "\n",
    "# URL do arquivo JSON\n",
    "url = \"https://import.cdn.thinkific.com/401289/gQbVuYr9TaimUX9dQAqV_enem_2023.json\"\n",
    "\n",
    "# Carregar os dados do arquivo JSON\n",
    "enem_data = pd.json_normalize(json.loads(requests.get(url).text))\n",
    "\n",
    "# Histograma para Redação com bins de 20 em 20 pontos\n",
    "plt.figure(figsize=(12, 6))\n",
    "plt.hist(enem_data['Redação.0'].dropna(), bins=range(0, 1010, 20), edgecolor='black')\n",
    "plt.title('Histograma para Redação')\n",
    "plt.xlabel('Nota')\n",
    "plt.ylabel('Frequência')\n",
    "plt.show()\n",
    "\n",
    "# Calcula a assimetria de Pearson para Redação\n",
    "skewness_redacao = skew(enem_data['Redação.0'].dropna())\n",
    "print(f'Assimetria de Pearson para Redação: {skewness_redacao:.2f}')\n",
    "\n",
    "# Histograma para Linguagens com bins de 20 em 20 pontos\n",
    "plt.figure(figsize=(12, 6))\n",
    "plt.hist(enem_data['Linguagens.0'].dropna(), bins=range(0, 1010, 20), edgecolor='black', color='orange')\n",
    "plt.title('Histograma para Linguagens')\n",
    "plt.xlabel('Nota')\n",
    "plt.ylabel('Frequência')\n",
    "plt.show()\n",
    "\n",
    "# Calcula a assimetria de Pearson para Linguagens\n",
    "skewness_linguagens = skew(enem_data['Linguagens.0'].dropna())\n",
    "print(f'Assimetria de Pearson para Linguagens: {skewness_linguagens:.2f}')\n",
    "\n",
    "# Histograma para Redação com range fixo de 0 a 1000\n",
    "plt.figure(figsize=(12, 6))\n",
    "plt.hist(enem_data['Redação.0'].dropna(), bins=range(0, 1010, 20), edgecolor='black', range=[0, 1000])\n",
    "plt.title('Histograma para Redação (0 a 1000)')\n",
    "plt.xlabel('Nota')\n",
    "plt.ylabel('Frequência')\n",
    "plt.show()\n",
    "\n",
    "# Histograma para Linguagens com range fixo de 0 a 1000\n",
    "plt.figure(figsize=(12, 6))\n",
    "plt.hist(enem_data['Linguagens.0'].dropna(), bins=range(0, 1010, 20), edgecolor='black', color='orange', range=[0, 1000])\n",
    "plt.title('Histograma para Linguagens (0 a 1000)')\n",
    "plt.xlabel('Nota')\n",
    "plt.ylabel('Frequência')\n",
    "plt.show()\n",
    "\n"
   ]
  },
  {
   "cell_type": "code",
   "execution_count": null,
   "metadata": {
    "colab": {
     "base_uri": "https://localhost:8080/",
     "height": 667
    },
    "executionInfo": {
     "elapsed": 2522,
     "status": "ok",
     "timestamp": 1708668682471,
     "user": {
      "displayName": "Raquel Fonseca",
      "userId": "07638475028169853447"
     },
     "user_tz": -60
    },
    "id": "R3BrmyRl1wcp",
    "outputId": "d201bc01-6391-4a23-8578-bc9a45d3344a"
   },
   "outputs": [
    {
     "data": {
      "image/png": "[encoded data removed]",
      "text/plain": [
       "<Figure size 1200x600 with 1 Axes>"
      ]
     },
     "metadata": {},
     "output_type": "display_data"
    },
    {
     "name": "stdout",
     "output_type": "stream",
     "text": [
      "Média Nacional Original: 532.26\n",
      "Média Nacional sem Outliers: 532.26\n",
      "Diferença Percentual (sem outliers): 0.00%\n",
      "Média Geral Original: 532.26, Desvio Padrão Original: 115.48\n",
      "Média Geral com Preenchimento pela Média: 532.26, Desvio Padrão: 115.48\n",
      "Média Geral com Preenchimento pela Moda: 532.26, Desvio Padrão: 115.48\n",
      "Média Geral com Preenchimento pela Mediana: 532.26, Desvio Padrão: 115.48\n"
     ]
    }
   ],
   "source": [
    "import pandas as pd\n",
    "import numpy as np\n",
    "import requests\n",
    "import json\n",
    "import seaborn as sns\n",
    "import matplotlib.pyplot as plt\n",
    "\n",
    "# URL do arquivo JSON\n",
    "url = \"https://import.cdn.thinkific.com/401289/gQbVuYr9TaimUX9dQAqV_enem_2023.json\"\n",
    "\n",
    "# Carregar os dados do arquivo JSON\n",
    "enem_data = pd.json_normalize(json.loads(requests.get(url).text))\n",
    "\n",
    "# Substituir pontos por underscores nas colunas\n",
    "enem_data.columns = enem_data.columns.str.replace('.', '_', regex=False)\n",
    "\n",
    "# Selecionar todas as disciplinas usando expressões regulares\n",
    "disciplinas_todas = enem_data.filter(regex='^[^.]+_0$')\n",
    "\n",
    "# Remover valores nulos\n",
    "disciplinas_todas = disciplinas_todas.dropna()\n",
    "\n",
    "# Identificar e tratar valores não numéricos\n",
    "non_numeric_columns = disciplinas_todas.columns[~disciplinas_todas.applymap(np.isreal).all()]\n",
    "for column in non_numeric_columns:\n",
    "    disciplinas_todas[column] = pd.to_numeric(disciplinas_todas[column], errors='coerce')\n",
    "\n",
    "# Gerar boxplot\n",
    "plt.figure(figsize=(12, 6))\n",
    "sns.boxplot(data=disciplinas_todas)\n",
    "plt.title('Boxplot de Todas as Disciplinas')\n",
    "plt.show()\n",
    "\n",
    "# Identificar e remover outliers usando o método IQR\n",
    "Q1 = disciplinas_todas.quantile(0.25)\n",
    "Q3 = disciplinas_todas.quantile(0.75)\n",
    "IQR = Q3 - Q1\n",
    "\n",
    "# Identificar outliers\n",
    "outliers_lower = disciplinas_todas.lt(Q1 - 1.5 * IQR)\n",
    "outliers_upper = disciplinas_todas.gt(Q3 + 1.5 * IQR)\n",
    "\n",
    "outliers = outliers_lower | outliers_upper\n",
    "\n",
    "# Calcular a média nacional original\n",
    "media_nacional_original = disciplinas_todas.stack().mean()\n",
    "\n",
    "# Remover outliers\n",
    "disciplinas_sem_outliers = disciplinas_todas.mask(outliers)\n",
    "\n",
    "# Calcular a média nacional sem outliers\n",
    "media_nacional_sem_outliers = disciplinas_sem_outliers.stack().mean()\n",
    "\n",
    "# Calcular a diferença percentual após remover outliers\n",
    "diferenca_percentual = ((media_nacional_sem_outliers - media_nacional_original) / media_nacional_original) * 100\n",
    "\n",
    "print(f'Média Nacional Original: {media_nacional_original:.2f}')\n",
    "print(f'Média Nacional sem Outliers: {media_nacional_sem_outliers:.2f}')\n",
    "print(f'Diferença Percentual (sem outliers): {diferenca_percentual:.2f}%')\n",
    "\n",
    "# Preencher valores nulos com média, moda e mediana\n",
    "enem_data_filled_mean = disciplinas_todas.fillna(disciplinas_todas.mean())\n",
    "enem_data_filled_mode = disciplinas_todas.fillna(disciplinas_todas.mode().iloc[0])  # Usar a moda mais frequente\n",
    "enem_data_filled_median = disciplinas_todas.fillna(disciplinas_todas.median())\n",
    "\n",
    "# Calcular média geral e desvio padrão para cada abordagem\n",
    "mean_original = disciplinas_todas.stack().mean()\n",
    "std_original = disciplinas_todas.stack().std()\n",
    "\n",
    "mean_mean = enem_data_filled_mean.stack().mean()\n",
    "std_mean = enem_data_filled_mean.stack().std()\n",
    "\n",
    "mean_mode = enem_data_filled_mode.stack().mean()\n",
    "std_mode = enem_data_filled_mode.stack().std()\n",
    "\n",
    "mean_median = enem_data_filled_median.stack().mean()\n",
    "std_median = enem_data_filled_median.stack().std()\n",
    "\n",
    "# Comparar as alterações na média geral e desvio padrão\n",
    "print(f'Média Geral Original: {mean_original:.2f}, Desvio Padrão Original: {std_original:.2f}')\n",
    "print(f'Média Geral com Preenchimento pela Média: {mean_mean:.2f}, Desvio Padrão: {std_mean:.2f}')\n",
    "print(f'Média Geral com Preenchimento pela Moda: {mean_mode:.2f}, Desvio Padrão: {std_mode:.2f}')\n",
    "print(f'Média Geral com Preenchimento pela Mediana: {mean_median:.2f}, Desvio Padrão: {std_median:.2f}')\n"
   ]
  }
 ],
 "metadata": {
  "colab": {
   "authorship_tag": "ABX9TyO4QkO1CxSp+GZlGE/IFD7D",
   "mount_file_id": "12ZnY8ddfWwLmLiCwGWZ7WKHZiOY-xPTB",
   "provenance": []
  },
  "kernelspec": {
   "display_name": "Python 3 (ipykernel)",
   "language": "python",
   "name": "python3"
  },
  "language_info": {
   "codemirror_mode": {
    "name": "ipython",
    "version": 3
   },
   "file_extension": ".py",
   "mimetype": "text/x-python",
   "name": "python",
   "nbconvert_exporter": "python",
   "pygments_lexer": "ipython3",
   "version": "3.10.12"
  }
 },
 "nbformat": 4,
 "nbformat_minor": 1
}
